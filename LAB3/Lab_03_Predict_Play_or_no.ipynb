{
 "cells": [
  {
   "cell_type": "markdown",
   "metadata": {
    "colab_type": "text",
    "id": "view-in-github"
   },
   "source": [
    "<a href=\"https://colab.research.google.com/github/VishalDalwadi/027_VishalDalwadi/blob/main/Lab_03_Predict_Play_or_no.ipynb\" target=\"_parent\"><img src=\"https://colab.research.google.com/assets/colab-badge.svg\" alt=\"Open In Colab\"/></a>"
   ]
  },
  {
   "cell_type": "code",
   "execution_count": 1,
   "metadata": {
    "colab": {
     "base_uri": "https://localhost:8080/"
    },
    "id": "C0_Noz2PUrgQ",
    "outputId": "a25a7e19-e820-468f-f6c9-89b5b5af9571"
   },
   "outputs": [
    {
     "name": "stdout",
     "output_type": "stream",
     "text": [
      "Mounted at /content/drive\n"
     ]
    }
   ],
   "source": [
    "from google.colab import drive\n",
    "drive.mount(\"/content/drive\")"
   ]
  },
  {
   "cell_type": "code",
   "execution_count": null,
   "metadata": {},
   "outputs": [],
   "source": [
    "import numpy as np\n",
    "import pandas as pd\n",
    "import matplotlib.pyplot as plt\n",
    "from sklearn import datasets, preprocessing, metrics\n",
    "from sklearn.naive_bayes import GaussianNB, MultinomialNB\n",
    "\n",
    "from sklearn.metrics import precision_score\n",
    "from sklearn.metrics import recall_score\n"
   ]
  },
  {
   "cell_type": "code",
   "execution_count": 4,
   "metadata": {
    "id": "kSeZ1OxKVGgk"
   },
   "outputs": [],
   "source": [
    "dataset = pd.read_csv(\"/content/drive/MyDrive/ML/Lab3/Dataset1.csv\")"
   ]
  },
  {
   "cell_type": "code",
   "execution_count": 5,
   "metadata": {
    "colab": {
     "base_uri": "https://localhost:8080/"
    },
    "id": "HY_foL8ZV9BH",
    "outputId": "fb70ff75-096d-411f-9ce8-dceb1d1dfcfd"
   },
   "outputs": [
    {
     "name": "stdout",
     "output_type": "stream",
     "text": [
      "\n",
      "\n",
      "Heading :- Outlook\n",
      "\n",
      "\n",
      "Heading :- Temp\n",
      "\n",
      "\n",
      "Heading :- Humidity\n",
      "\n",
      "\n",
      "Heading :- Wind\n"
     ]
    }
   ],
   "source": [
    "# LabelEncoder Object\n",
    "label_encoder = preprocessing.LabelEncoder()\n",
    "Y_rows=None\n",
    "for data_heading in dataset:\n",
    "    if data_heading!=\"Play\":\n",
    "        print(f\"\\n\\nHeading :- {data_heading}\")\n",
    "        dummy = pd.get_dummies(dataset[data_heading])\n",
    "        dataset = dataset.drop([data_heading],axis=1)\n",
    "        dataset = pd.concat([dataset,dummy],axis=1)\n",
    "    else:\n",
    "        Y_rows = label_encoder.fit_transform(dataset[data_heading])\n",
    "        dataset = dataset.drop([data_heading],axis=1)"
   ]
  },
  {
   "cell_type": "code",
   "execution_count": 6,
   "metadata": {
    "colab": {
     "base_uri": "https://localhost:8080/"
    },
    "id": "g1TyyNFFYKxi",
    "outputId": "1d251346-ac90-4697-8448-29cde32b97c6"
   },
   "outputs": [
    {
     "name": "stdout",
     "output_type": "stream",
     "text": [
      "    O  R  S  C  H  M  High  Low  Normal  F  T\n",
      "0   0  1  0  0  1  0     0    0       1  1  0\n",
      "1   0  1  0  0  1  0     1    0       0  0  1\n",
      "2   1  0  0  0  1  0     0    0       1  1  0\n",
      "3   0  0  1  0  0  1     0    0       1  1  0\n",
      "4   0  0  1  1  0  0     0    0       1  1  0\n",
      "5   0  0  1  1  0  0     0    1       0  0  1\n",
      "6   1  0  0  1  0  0     0    0       1  0  1\n",
      "7   0  1  0  0  0  1     0    0       1  1  0\n",
      "8   0  1  0  1  0  0     0    1       0  1  0\n",
      "9   0  0  1  0  0  1     1    0       0  1  0\n",
      "10  0  1  0  0  0  1     1    0       0  0  1\n",
      "11  1  0  0  0  0  1     0    1       0  0  1\n",
      "12  1  0  0  0  1  0     0    0       1  1  0\n",
      "13  0  0  1  0  0  1     0    0       1  0  1 [0 0 1 1 1 0 1 0 1 1 1 1 1 0]\n"
     ]
    }
   ],
   "source": [
    "print(dataset,Y_rows)"
   ]
  },
  {
   "cell_type": "code",
   "execution_count": 7,
   "metadata": {
    "id": "PWNrhz44XZxF"
   },
   "outputs": [],
   "source": [
    "from sklearn.model_selection import train_test_split\n",
    "\n",
    "X_train, X_test, Y_train, Y_test = train_test_split(dataset, Y_rows, test_size = 0.30, random_state = 54)"
   ]
  },
  {
   "cell_type": "code",
   "execution_count": 8,
   "metadata": {
    "colab": {
     "base_uri": "https://localhost:8080/"
    },
    "id": "PWXmsSDpc4qr",
    "outputId": "d4ff34f6-d004-41e2-9dde-56f707bbdb21"
   },
   "outputs": [
    {
     "name": "stdout",
     "output_type": "stream",
     "text": [
      "    O  R  S  C  H  M  High  Low  Normal  F  T\n",
      "4   0  0  1  1  0  0     0    0       1  1  0\n",
      "12  1  0  0  0  1  0     0    0       1  1  0\n",
      "9   0  0  1  0  0  1     1    0       0  1  0\n",
      "3   0  0  1  0  0  1     0    0       1  1  0\n",
      "13  0  0  1  0  0  1     0    0       1  0  1\n",
      "[0 1 0 0 0]\n"
     ]
    }
   ],
   "source": [
    "model = MultinomialNB()\n",
    "model.fit(X_train, Y_train)\n",
    "\n",
    "# Predict Y from X_text\n",
    "Y_predicted = model.predict(X_test)\n",
    "print(X_test)\n",
    "print(Y_predicted)"
   ]
  },
  {
   "cell_type": "code",
   "execution_count": 9,
   "metadata": {
    "colab": {
     "base_uri": "https://localhost:8080/"
    },
    "id": "ABRk0kUZc9zH",
    "outputId": "f9bfab82-e57b-4fa4-ac4e-9451cdff075b"
   },
   "outputs": [
    {
     "name": "stdout",
     "output_type": "stream",
     "text": [
      "Accuracy is :- 0.4\n",
      "precision :- 1.0\n",
      "recall :- 0.25\n"
     ]
    }
   ],
   "source": [
    "print(f\"Accuracy is :- {metrics.accuracy_score(Y_test, Y_predicted)}\")\n",
    "precision = precision_score(Y_test, Y_predicted)\n",
    "recall = recall_score(Y_test, Y_predicted)\n",
    "print(f\"precision :- {precision}\")\n",
    "print(f\"recall :- {recall}\")"
   ]
  },
  {
   "cell_type": "code",
   "execution_count": 12,
   "metadata": {
    "colab": {
     "base_uri": "https://localhost:8080/"
    },
    "id": "YC_S7e3KdAdE",
    "outputId": "a8527510-ea8f-4664-ab7a-0b3156c595ed"
   },
   "outputs": [
    {
     "name": "stdout",
     "output_type": "stream",
     "text": [
      "final prediction :- [0]\n",
      "final prediction :- [1]\n",
      "final prediction :- [1]\n"
     ]
    }
   ],
   "source": [
    "# Task1\n",
    "output = model.predict([[0,1,0, 0,1,0  ,0,0,1 ,1,0]])\n",
    "print(f\"final prediction :- {output}\")\n",
    "output = model.predict([[1,0,0  ,0,1,0    ,0,0,1  ,1,0]])\n",
    "print(f\"final prediction :- {output}\")\n",
    "output = model.predict([[1,0,0, 0,0,1 ,0,0,1  ,0,1]])\n",
    "print(f\"final prediction :- {output}\")"
   ]
  },
  {
   "cell_type": "code",
   "execution_count": null,
   "metadata": {
    "id": "vEzK5DSPdHmI"
   },
   "outputs": [],
   "source": []
  }
 ],
 "metadata": {
  "colab": {
   "collapsed_sections": [],
   "include_colab_link": true,
   "name": "Lab_03_Predict_Play_or_no.ipynb",
   "provenance": []
  },
  "kernelspec": {
   "display_name": "Python 3",
   "language": "python",
   "name": "python3"
  },
  "language_info": {
   "codemirror_mode": {
    "name": "ipython",
    "version": 3
   },
   "file_extension": ".py",
   "mimetype": "text/x-python",
   "name": "python",
   "nbconvert_exporter": "python",
   "pygments_lexer": "ipython3",
   "version": "3.9.6"
  }
 },
 "nbformat": 4,
 "nbformat_minor": 1
}
