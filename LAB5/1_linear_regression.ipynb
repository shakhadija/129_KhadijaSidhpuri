{
 "cells": [
  {
   "cell_type": "code",
   "execution_count": 4,
   "metadata": {
    "_cell_guid": "79c7e3d0-c299-4dcb-8224-4455121ee9b0",
    "_uuid": "d629ff2d2480ee46fbb7e2d37f6b5fab8052498a",
    "id": "v0BtAX1--7l_"
   },
   "outputs": [],
   "source": [
    "# Import Numpy & PyTorch\n",
    "import numpy as np\n",
    "import torch\n",
    "import pandas as pd\n",
    "from sklearn.model_selection import train_test_split"
   ]
  },
  {
   "cell_type": "markdown",
   "metadata": {
    "_uuid": "34f006aa7eb4bbc683c39b7059021da900180908",
    "id": "tUurNfvF-7mc"
   },
   "source": [
    "A tensor is a number, vector, matrix or any n-dimensional array."
   ]
  },
  {
   "cell_type": "markdown",
   "metadata": {
    "_uuid": "0b65b6bb4d15127b1d51f09abf616cfd29fa48b4",
    "id": "DAOgSWEp-7oF"
   },
   "source": [
    "## Problem Statement"
   ]
  },
  {
   "cell_type": "markdown",
   "metadata": {
    "_uuid": "c1beecda01bc332596edd193cade30006e3f6cbf",
    "id": "-Fi1M6pd-7oJ"
   },
   "source": [
    "We'll create a model that predicts crop yeilds for apples (*target variable*) by looking at the average temperature, rainfall and humidity (*input variables or features*) in different regions. \n",
    "\n",
    "Here's the training data:\n",
    "\n",
    ">Temp | Rain | Humidity | Prediction\n",
    ">--- | --- | --- | ---\n",
    "> 73 | 67 | 43 | 56\n",
    "> 91 | 88 | 64 | 81\n",
    "> 87 | 134 | 58 | 119\n",
    "> 102 | 43 | 37 | 22\n",
    "> 69 | 96 | 70 | 103\n",
    "\n",
    "In a **linear regression** model, each target variable is estimated to be a weighted sum of the input variables, offset by some constant, known as a bias :\n",
    "\n",
    "```\n",
    "yeild_apple  = w11 * temp + w12 * rainfall + w13 * humidity + b1\n",
    "```\n",
    "\n",
    "It means that the yield of apples is a linear or planar function of the temperature, rainfall & humidity.\n",
    "\n",
    "\n",
    "\n",
    "**Our objective**: Find a suitable set of *weights* and *biases* using the training data, to make accurate predictions."
   ]
  },
  {
   "cell_type": "markdown",
   "metadata": {
    "_uuid": "c24b8195c0e9c6e8e13e169d264484f1f9b3b1ae",
    "id": "h0dmV2Fc-7oL"
   },
   "source": [
    "## Training Data\n",
    "The training data can be represented using 2 matrices (inputs and targets), each with one row per observation and one column for variable."
   ]
  },
  {
   "cell_type": "code",
   "execution_count": 5,
   "metadata": {
    "_uuid": "dfda99005fc6daf3a49ae1cdd427ccac0aa446b1",
    "id": "MaIf33bV-7oN"
   },
   "outputs": [],
   "source": [
    "# Input (temp, rainfall, humidity)\n",
    "inputs = np.array([[73, 67, 43], \n",
    "                   [91, 88, 64], \n",
    "                   [87, 134, 58], \n",
    "                   [102, 43, 37], \n",
    "                   [69, 96, 70]], dtype='float32')"
   ]
  },
  {
   "cell_type": "code",
   "execution_count": 6,
   "metadata": {
    "_uuid": "bf56faf74f7e29c9ed7523308718a9ab1acc0667",
    "id": "1tnPriBD-7oa"
   },
   "outputs": [],
   "source": [
    "# Target (apples)\n",
    "targets = np.array([[56], \n",
    "                    [81], \n",
    "                    [119], \n",
    "                    [22], \n",
    "                    [103]], dtype='float32')"
   ]
  },
  {
   "cell_type": "markdown",
   "metadata": {
    "_uuid": "652647cd90bd0784ec4dc53472410f7358ee18c9",
    "id": "y0RLCJnb-7o4"
   },
   "source": [
    "## Linear Regression Model (from scratch)\n",
    "\n",
    "The *weights* and *biases* can also be represented as matrices, initialized with random values. The first row of `w` and the first element of `b` are use to predict the first target variable i.e. yield for apples, and similarly the second for oranges."
   ]
  },
  {
   "cell_type": "markdown",
   "metadata": {
    "_uuid": "3579a065997cae41f7f504916b6bc07878ac768c",
    "id": "8qNNejI9-7pH"
   },
   "source": [
    "The *model* is simply a function that performs a matrix multiplication of the input `x` and the weights `w` (transposed) and adds the bias `b` (replicated for each observation).\n",
    "\n",
    "$$\n",
    "\\hspace{2.5cm} X \\hspace{1.1cm} \\times \\hspace{1.2cm} W^T \\hspace{1.2cm}  + \\hspace{1cm} b \\hspace{2cm}\n",
    "$$\n",
    "\n",
    "$$\n",
    "\\left[ \\begin{array}{cc}\n",
    "73 & 67 & 43 \\\\\n",
    "91 & 88 & 64 \\\\\n",
    "\\vdots & \\vdots & \\vdots \\\\\n",
    "69 & 96 & 70\n",
    "\\end{array} \\right]\n",
    "%\n",
    "\\times\n",
    "%\n",
    "\\left[ \\begin{array}{cc}\n",
    "w_{11} & w_{21} \\\\\n",
    "w_{12} & w_{22} \\\\\n",
    "w_{13} & w_{23}\n",
    "\\end{array} \\right]\n",
    "%\n",
    "+\n",
    "%\n",
    "\\left[ \\begin{array}{cc}\n",
    "b_{1} & b_{2} \\\\\n",
    "b_{1} & b_{2} \\\\\n",
    "\\vdots & \\vdots \\\\\n",
    "b_{1} & b_{2} \\\\\n",
    "\\end{array} \\right]\n",
    "$$"
   ]
  },
  {
   "cell_type": "code",
   "execution_count": 7,
   "metadata": {
    "colab": {
     "base_uri": "https://localhost:8080/"
    },
    "id": "R_E4hOuKeLw4",
    "outputId": "e5b75e10-5d45-4ce6-dbb3-ff8c96887cfc"
   },
   "outputs": [
    {
     "name": "stdout",
     "output_type": "stream",
     "text": [
      "(5, 4)\n"
     ]
    }
   ],
   "source": [
    "mu = np.mean(inputs, 0)\n",
    "sigma = np.std(inputs, 0)\n",
    "#normalizing the input\n",
    "inputs = (inputs-mu) / sigma\n",
    "inputs = np.hstack((np.ones((targets.size,1)),inputs))\n",
    "print(inputs.shape)"
   ]
  },
  {
   "cell_type": "code",
   "execution_count": 8,
   "metadata": {
    "_uuid": "6f788ae559355b3f01667be1554a5d2bdcade8db",
    "colab": {
     "base_uri": "https://localhost:8080/"
    },
    "id": "OjToROni-7o5",
    "outputId": "91f18bcc-4015-42ab-8838-d01d5a9622cb"
   },
   "outputs": [
    {
     "name": "stdout",
     "output_type": "stream",
     "text": [
      "[[0.85183394 0.88489295 0.76570853 0.0321986 ]]\n"
     ]
    }
   ],
   "source": [
    "# Weights and biases\n",
    "rg = np.random.default_rng(28)\n",
    "w = rg.random((1, 4))\n",
    "print(w)"
   ]
  },
  {
   "cell_type": "markdown",
   "metadata": {
    "_uuid": "edaae7266f5d47c5e970e1438a812f10d8d35fb4",
    "id": "hiNOZ2g1-7p7"
   },
   "source": [
    "## Loss Function\n",
    "\n",
    "We can compare the predictions with the actual targets, using the following method: \n",
    "* Calculate the difference between the two matrices (`preds` and `targets`).\n",
    "* Square all elements of the difference matrix to remove negative values.\n",
    "* Calculate the average of the elements in the resulting matrix.\n",
    "\n",
    "The result is a single number, known as the **mean squared error** (MSE)."
   ]
  },
  {
   "cell_type": "code",
   "execution_count": 9,
   "metadata": {
    "_uuid": "dbf5bca8cbf2a3831089b454c70469e3748e9682",
    "id": "_wY9fW06-7p9"
   },
   "outputs": [],
   "source": [
    "# MSE loss\n",
    "def mse_loss(t1, t2):\n",
    "    diff = t1 - t2\n",
    "    return np.sum(diff * diff) / diff.size"
   ]
  },
  {
   "cell_type": "code",
   "execution_count": 10,
   "metadata": {
    "id": "kNqIYzgse3HU"
   },
   "outputs": [],
   "source": [
    "# Define the model\n",
    "def model(x,w):\n",
    "    return x @ w.T"
   ]
  },
  {
   "cell_type": "code",
   "execution_count": 11,
   "metadata": {
    "_uuid": "ef66710c6ef1944567c4dc033e1ca316f35490ab",
    "id": "jMUIxzeO-7qW"
   },
   "outputs": [],
   "source": [
    "# Compute gradients\n",
    "def gradient_descent(X, y, w, learning_rate, n_iters):\n",
    "    J_history = np.zeros((n_iters,1))\n",
    "    for i in range(n_iters):\n",
    "        h = model(X,w)\n",
    "        diff = h - y\n",
    "        delta = (learning_rate/y.size)*(X.T@diff)\n",
    "        new_w = w - delta.T\n",
    "        w=new_w\n",
    "        J_history[i] = mse_loss(h, y)\n",
    "    return (J_history, w)"
   ]
  },
  {
   "cell_type": "code",
   "execution_count": 12,
   "metadata": {
    "_uuid": "5943d1cef604a178c95f5e8d255519d42d9f9982",
    "colab": {
     "base_uri": "https://localhost:8080/"
    },
    "id": "RWG8jqkG-7qo",
    "outputId": "bbe83511-db63-490c-939b-993851ff725d"
   },
   "outputs": [
    {
     "name": "stdout",
     "output_type": "stream",
     "text": [
      "Cost before regression:  6838.52070955769\n"
     ]
    }
   ],
   "source": [
    "# Compute error\n",
    "preds = model(inputs,w)\n",
    "cost_initial = mse_loss(preds, targets)\n",
    "print(\"Cost before regression: \",cost_initial)\n"
   ]
  },
  {
   "cell_type": "markdown",
   "metadata": {
    "_uuid": "5201901695f3ea13d7fdd5d985da7e0761c541d0",
    "id": "JvUhV8nQ-7s9"
   },
   "source": [
    "## Train for multiple epochs\n",
    "\n",
    "To reduce the loss further, we repeat the process of adjusting the weights and biases using the gradients multiple times. Each iteration is called an epoch."
   ]
  },
  {
   "cell_type": "code",
   "execution_count": 13,
   "metadata": {
    "_uuid": "9f5f0ffeee666b30c5828636359f0be6addbef7c",
    "colab": {
     "base_uri": "https://localhost:8080/"
    },
    "id": "rX0ZllBO-7tJ",
    "outputId": "31d41d28-47fc-42d6-a109-5d0fef9d02ce"
   },
   "outputs": [
    {
     "name": "stdout",
     "output_type": "stream",
     "text": [
      "Initial Cost:  6838.52070955769 \n",
      "\n",
      "Optimal parameters: \n",
      " [[75.70492636 -4.35531158 24.05429275 10.55531256]] \n",
      "\n",
      "Final cost:  [3.06533067]\n"
     ]
    }
   ],
   "source": [
    "# Train for 100 epochs\n",
    "import matplotlib.pyplot as plt\n",
    "n_iters = 500\n",
    "learning_rate = 0.01\n",
    "initial_cost = mse_loss(model(inputs,w),targets)\n",
    "print(\"Initial Cost: \", initial_cost, \"\\n\")\n",
    "(J_history, optimal_params) = gradient_descent(inputs, targets, w, learning_rate, n_iters)\n",
    "print(\"Optimal parameters: \\n\", optimal_params, \"\\n\")\n",
    "print(\"Final cost: \", J_history[-1])"
   ]
  },
  {
   "cell_type": "code",
   "execution_count": 14,
   "metadata": {
    "colab": {
     "base_uri": "https://localhost:8080/",
     "height": 294
    },
    "id": "Goz0uWC8gLfL",
    "outputId": "efe2a84e-7b4d-4b7d-d7ab-19b00c88ed75"
   },
   "outputs": [
    {
     "data": {
      "image/png": "[encoded data removed]",
      "text/plain": [
       "<Figure size 432x288 with 1 Axes>"
      ]
     },
     "metadata": {
      "needs_background": "light"
     },
     "output_type": "display_data"
    }
   ],
   "source": [
    "plt.plot(range(len(J_history)), J_history, 'r')\n",
    "plt.title(\"Convergence Graph\")\n",
    "plt.xlabel(\"Number of Iterations\")\n",
    "plt.ylabel(\"Cost\")\n",
    "plt.show()"
   ]
  },
  {
   "cell_type": "code",
   "execution_count": 15,
   "metadata": {
    "_uuid": "c4820ca48b78f4dc242d80a9ec3ec6aca1aef671",
    "colab": {
     "base_uri": "https://localhost:8080/"
    },
    "id": "ym2eslp8-7ta",
    "outputId": "8353d8e9-d5eb-4fdc-ec9e-b8849611c0f1"
   },
   "outputs": [],
   "source": [
    "# Calculate error\n",
    "preds = model(inputs,optimal_params)\n",
    "cost_final = mse_loss(preds, targets)"
   ]
  },
  {
   "cell_type": "code",
   "execution_count": 18,
   "metadata": {},
   "outputs": [
    {
     "name": "stdout",
     "output_type": "stream",
     "text": [
      "[[ 55.4720205 ]\n",
      " [ 83.3278966 ]\n",
      " [116.11787692]\n",
      " [ 20.93457341]\n",
      " [102.67226376]]\n"
     ]
    }
   ],
   "source": [
    "# Print predictions\n",
    "print(preds)\n"
   ]
  },
  {
   "cell_type": "code",
   "execution_count": 19,
   "metadata": {},
   "outputs": [
    {
     "name": "stdout",
     "output_type": "stream",
     "text": [
      "[[ 56.]\n",
      " [ 81.]\n",
      " [119.]\n",
      " [ 22.]\n",
      " [103.]]\n"
     ]
    }
   ],
   "source": [
    "# Print targets\n",
    "print(targets)"
   ]
  },
  {
   "cell_type": "code",
   "execution_count": 20,
   "metadata": {
    "_uuid": "addec2c4eca8edfcae5544ea2cc717182c21d90f",
    "colab": {
     "base_uri": "https://localhost:8080/"
    },
    "id": "tEjLn-IO-7ty",
    "outputId": "5e5725fe-eaae-4b40-f790-b9d89383fdee"
   },
   "outputs": [
    {
     "name": "stdout",
     "output_type": "stream",
     "text": [
      "Cost after linear regression:  3.0494086420414903\n",
      "Cost reduction percentage :  99.95540835845127\n"
     ]
    }
   ],
   "source": [
    "print(\"Cost after linear regression: \",cost_final)\n",
    "print(\"Cost reduction percentage : \",((cost_initial- cost_final)/cost_initial)*100)"
   ]
  }
 ],
 "metadata": {
  "colab": {
   "name": "1-linear-regression.ipynb",
   "provenance": []
  },
  "kernelspec": {
   "display_name": "Python 3",
   "language": "python",
   "name": "python3"
  },
  "language_info": {
   "codemirror_mode": {
    "name": "ipython",
    "version": 3
   },
   "file_extension": ".py",
   "mimetype": "text/x-python",
   "name": "python",
   "nbconvert_exporter": "python",
   "pygments_lexer": "ipython3",
   "version": "3.9.6"
  }
 },
 "nbformat": 4,
 "nbformat_minor": 1
}
