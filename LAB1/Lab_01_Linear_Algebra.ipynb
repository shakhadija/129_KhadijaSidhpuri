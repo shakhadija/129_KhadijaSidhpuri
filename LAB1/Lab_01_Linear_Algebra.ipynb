{
 "cells": [
  {
   "cell_type": "markdown",
   "metadata": {
    "colab_type": "text",
    "id": "view-in-github"
   },
   "source": [
    "<a href=\"https://colab.research.google.com/github/VishalDalwadi/027_VishalDalwadi/blob/main/Lab_01_Linear_Algebra.ipynb\" target=\"_parent\"><img src=\"https://colab.research.google.com/assets/colab-badge.svg\" alt=\"Open In Colab\"/></a>"
   ]
  },
  {
   "cell_type": "code",
   "execution_count": 3,
   "metadata": {
    "colab": {
     "base_uri": "https://localhost:8080/"
    },
    "id": "Wytm29pC8GxP",
    "outputId": "e5bb36ab-cbc7-4b90-aca3-21da8da2b9f5"
   },
   "outputs": [
    {
     "name": "stdout",
     "output_type": "stream",
     "text": [
      "Mounted at /content/drive\n"
     ]
    }
   ],
   "source": [
    "from google.colab import drive\n",
    "drive.mount(\"/content/drive\")"
   ]
  },
  {
   "cell_type": "code",
   "execution_count": 4,
   "metadata": {
    "id": "NLhsXKXm8wDd"
   },
   "outputs": [],
   "source": [
    "import numpy as np\n",
    "import pandas as pd"
   ]
  },
  {
   "cell_type": "code",
   "execution_count": 5,
   "metadata": {
    "colab": {
     "base_uri": "https://localhost:8080/"
    },
    "id": "YrMwOlBi9RHU",
    "outputId": "48a672d8-6f70-4213-dd54-e0c58806058f"
   },
   "outputs": [
    {
     "name": "stdout",
     "output_type": "stream",
     "text": [
      "[[1 2 3]\n",
      " [4 5 6]]\n",
      "[[ 7 10]\n",
      " [ 8 11]\n",
      " [ 9 12]]\n"
     ]
    }
   ],
   "source": [
    "# initialize matrices\n",
    "array1 = np.array([[1, 2, 3],[4, 5, 6]])\n",
    "array2 = np.array([[7, 10],[8, 11],[9, 12]])\n",
    "print(array1)\n",
    "print(array2)"
   ]
  },
  {
   "cell_type": "code",
   "execution_count": 6,
   "metadata": {
    "colab": {
     "base_uri": "https://localhost:8080/"
    },
    "id": "0G4ztctz9iph",
    "outputId": "0ae5a971-fccd-45a6-a4a0-9e7f3758d48d"
   },
   "outputs": [
    {
     "name": "stdout",
     "output_type": "stream",
     "text": [
      "[[0.13307127 0.24418718 0.02285162 0.84067265]\n",
      " [0.32896992 0.21523318 0.5133984  0.16234388]\n",
      " [0.16044939 0.21550277 0.35613553 0.78385705]]\n"
     ]
    }
   ],
   "source": [
    "#randomly initialize array\n",
    "array = np.random.rand(3, 4)\n",
    "print(array)"
   ]
  },
  {
   "cell_type": "code",
   "execution_count": 7,
   "metadata": {
    "colab": {
     "base_uri": "https://localhost:8080/"
    },
    "id": "pGD17M4e9t9Z",
    "outputId": "f4137f08-fb4f-4edf-d986-55c0015c8932"
   },
   "outputs": [
    {
     "name": "stdout",
     "output_type": "stream",
     "text": [
      "[[ 50  68]\n",
      " [122 167]]\n"
     ]
    }
   ],
   "source": [
    "# matrix multiplication\n",
    "mul = np.dot(array1, array2)\n",
    "print(mul)"
   ]
  },
  {
   "cell_type": "code",
   "execution_count": 8,
   "metadata": {
    "colab": {
     "base_uri": "https://localhost:8080/"
    },
    "id": "mCT8XbnA926h",
    "outputId": "e5f7f9a7-4224-44d5-bbb7-3604f07e667a"
   },
   "outputs": [
    {
     "name": "stdout",
     "output_type": "stream",
     "text": [
      "[[50, 68], [122, 167]]\n"
     ]
    }
   ],
   "source": [
    "# element wise matrix multiplication\n",
    "res = [[0 for x in range(len(array1))] for y in range(len(array2[0]))]\n",
    "\n",
    "for i in range(len(array1)): \n",
    "  for j in range(len(array2[0])): \n",
    "    for k in range(len(array2)): \n",
    "      res[i][j] += array1[i][k] * array2[k][j]\n",
    " \n",
    "print (res) "
   ]
  },
  {
   "cell_type": "code",
   "execution_count": 9,
   "metadata": {
    "colab": {
     "base_uri": "https://localhost:8080/"
    },
    "id": "pmbcqzXg-SsJ",
    "outputId": "0fe830aa-5225-48cc-b35f-2dfff1922f62"
   },
   "outputs": [
    {
     "name": "stdout",
     "output_type": "stream",
     "text": [
      "3.5\n"
     ]
    }
   ],
   "source": [
    "# first matrix mean\n",
    "mean = np.mean(array1)\n",
    "print(mean)"
   ]
  },
  {
   "cell_type": "code",
   "execution_count": 11,
   "metadata": {
    "id": "AOi7uQv-SdIm"
   },
   "outputs": [],
   "source": [
    "main_data = pd.read_csv(\"/content/drive/MyDrive/ML/Lab1/mtcars.csv\")"
   ]
  },
  {
   "cell_type": "code",
   "execution_count": null,
   "metadata": {
    "colab": {
     "base_uri": "https://localhost:8080/"
    },
    "id": "WQvwWW_ATFPq",
    "outputId": "e8c32a62-1659-4022-a16a-d843196cd22a"
   },
   "outputs": [
    {
     "name": "stdout",
     "output_type": "stream",
     "text": [
      "        mpg     cyl        disp       hp  ...      vs       am    gear    carb\n",
      "0  0.909375 -0.1875  -70.721875 -36.6875  ... -0.4375  0.59375  0.3125  1.1875\n",
      "1  0.909375 -0.1875  -70.721875 -36.6875  ... -0.4375  0.59375  0.3125  1.1875\n",
      "2  2.709375 -2.1875 -122.721875 -53.6875  ...  0.5625  0.59375  0.3125 -1.8125\n",
      "3  1.309375 -0.1875   27.278125 -36.6875  ...  0.5625 -0.40625 -0.6875 -1.8125\n",
      "4 -1.390625  1.8125  129.278125  28.3125  ... -0.4375 -0.40625 -0.6875 -0.8125\n",
      "\n",
      "[5 rows x 11 columns]\n"
     ]
    }
   ],
   "source": [
    "del main_data['model']\n",
    "meancenter = main_data.apply(lambda e: e - e.mean())\n",
    "print(meancenter.head())\n"
   ]
  },
  {
   "cell_type": "code",
   "execution_count": null,
   "metadata": {
    "id": "yLR1NUfNUDvX"
   },
   "outputs": [],
   "source": []
  }
 ],
 "metadata": {
  "colab": {
   "collapsed_sections": [],
   "include_colab_link": true,
   "name": "Lab_01_Linear_Algebra.ipynb",
   "provenance": []
  },
  "kernelspec": {
   "display_name": "Python 3",
   "language": "python",
   "name": "python3"
  },
  "language_info": {
   "codemirror_mode": {
    "name": "ipython",
    "version": 3
   },
   "file_extension": ".py",
   "mimetype": "text/x-python",
   "name": "python",
   "nbconvert_exporter": "python",
   "pygments_lexer": "ipython3",
   "version": "3.9.6"
  }
 },
 "nbformat": 4,
 "nbformat_minor": 1
}
